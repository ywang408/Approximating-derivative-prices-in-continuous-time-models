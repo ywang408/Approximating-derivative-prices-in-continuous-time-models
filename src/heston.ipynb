{
 "cells": [
  {
   "cell_type": "code",
   "execution_count": 1,
   "metadata": {},
   "outputs": [],
   "source": [
    "from scipy.stats import norm\n",
    "import numpy as np\n",
    "import os\n",
    "var('r K s v t v0');  # vars used in both models"
   ]
  },
  {
   "attachments": {},
   "cell_type": "markdown",
   "metadata": {},
   "source": [
    "#### Expression of mis-pricing function $\\delta$\n"
   ]
  },
  {
   "cell_type": "code",
   "execution_count": 2,
   "metadata": {},
   "outputs": [],
   "source": [
    "density(x) = 1/sqrt(2*pi)*exp(-x^2/2) # Gaussian density\n",
    "sigma = sqrt(v0)\n",
    "d1 = (log(s / K) + (r + sigma ^ 2 / 2) * t) / (sigma * sqrt(t))\n",
    "Gamma = density(d1) / (sigma * s * sqrt(t))\n",
    "delta0 = 0.5 * (v - sigma ** 2) * s ** 2 * Gamma # mis-pricing of using bs model"
   ]
  },
  {
   "attachments": {},
   "cell_type": "markdown",
   "metadata": {},
   "source": [
    "#### Black-Scholes formula and update functions for delta\n",
    "\n",
    "Notice that here we use numerical calculation for black-scholes model, because there's no need to use symbolic calculation for it, we have defined expressions of $\\delta$ before.\n"
   ]
  },
  {
   "cell_type": "code",
   "execution_count": 3,
   "metadata": {},
   "outputs": [],
   "source": [
    "var('kappa theta sig rho')  # vars used only in heston model\n",
    "\n",
    "\n",
    "def bs(S, K, T, r, sigma):\n",
    "    \"\"\"Numerical calculation of Black-Scholes formula\"\"\"\n",
    "    N = norm.cdf\n",
    "    d1 = (np.log(S / K) + (r + sigma ** 2 / 2) * T) / (sigma * np.sqrt(T))\n",
    "    d2 = d1 - sigma * np.sqrt(T)\n",
    "    return S * N(d1) - K * np.exp(-r * T) * N(d2)\n",
    "\n",
    "\n",
    "def update_delta(f):\n",
    "    \"\"\"infinitesimal generator\"\"\"\n",
    "    ft = diff(f, t)\n",
    "    fs = diff(f, s)\n",
    "    fs2 = diff(fs, s)\n",
    "    fv = diff(f, v)\n",
    "    fv2 = diff(fv, v)\n",
    "    fvs = diff(fv, s)\n",
    "    tmp1 = -ft + r * s * fs + kappa * (theta - v) * fv\n",
    "    tmp2 = (v * s ** 2 * fs2 + sig ** 2 * v * fv2) / 2\n",
    "    tmp3 = rho * sig * v * s * fvs\n",
    "    return tmp1 + tmp2 + tmp3 - r * f"
   ]
  },
  {
   "attachments": {},
   "cell_type": "markdown",
   "metadata": {},
   "source": [
    "Now we can use `update_delta` to calculate $\\delta_i$ in KM's paper\n"
   ]
  },
  {
   "cell_type": "code",
   "execution_count": 4,
   "metadata": {},
   "outputs": [
    {
     "name": "stdout",
     "output_type": "stream",
     "text": [
      "CPU times: user 18.4 s, sys: 386 ms, total: 18.8 s\n",
      "Wall time: 16.1 s\n"
     ]
    }
   ],
   "source": [
    "%%time\n",
    "delta1 = update_delta(delta0).simplify_full()\n",
    "delta2 = update_delta(delta1).simplify_full()\n",
    "delta3 = update_delta(delta2).simplify_full()\n",
    "delta4 = update_delta(delta3)\n",
    "deltas = [delta0, delta1, delta2, delta3, delta4]"
   ]
  },
  {
   "cell_type": "markdown",
   "metadata": {},
   "source": [
    "#### I/O\n",
    "\n",
    "Indeed we can save our computation results to a file and load them later. This is useful when we want to evaluate them in a different notebook or in a different session."
   ]
  },
  {
   "cell_type": "code",
   "execution_count": 5,
   "metadata": {},
   "outputs": [],
   "source": [
    "if not os.path.exists('sage_output'):\n",
    "    os.makedirs('sage_output')\n",
    "for i in range(len(deltas)):\n",
    "    deltas[i].save(f\"./sage_output/delta{i}\")"
   ]
  },
  {
   "cell_type": "code",
   "execution_count": 6,
   "metadata": {},
   "outputs": [],
   "source": [
    "deltas = []\n",
    "if os.path.exists('sage_output'):\n",
    "    files = os.listdir('sage_output')\n",
    "    if len(files) == 5:\n",
    "        files.sort()\n",
    "        for i in range(len(files)):\n",
    "            deltas.append(load(f\"./sage_output/delta{i}\"))"
   ]
  },
  {
   "attachments": {},
   "cell_type": "markdown",
   "metadata": {},
   "source": [
    "#### Approximation formula\n",
    "\n",
    "Now we can wrap all the calculations into one function\n"
   ]
  },
  {
   "cell_type": "code",
   "execution_count": 7,
   "metadata": {},
   "outputs": [],
   "source": [
    "def approx(bs, delta, n, params):\n",
    "    \"\"\"Approximate option price using the first n terms of the Ito-Taylor series\"\"\"\n",
    "    t, s, v, r, K, v0, kappa, theta, sig, rho = params\n",
    "    deltas_expression = sum(\n",
    "        delta[i] * t ** (i+1)/factorial(i+1) for i in range(n+1))\n",
    "    deltas_numerical = numerical_approx(deltas_expression(\n",
    "        t=t, s=s, v=v, r=r, K=K, v0=v0, kappa=kappa, theta=theta, sig=sig, rho=rho))\n",
    "    bs_numerical = bs(S=s, K=K, T=t, r=r, sigma=np.sqrt(v0))\n",
    "    return bs_numerical + deltas_numerical"
   ]
  },
  {
   "attachments": {},
   "cell_type": "markdown",
   "metadata": {},
   "source": [
    "#### Evaluate the approximation\n"
   ]
  },
  {
   "cell_type": "code",
   "execution_count": 8,
   "metadata": {},
   "outputs": [],
   "source": [
    "kappa = 0.1456\n",
    "theta = 0.5172\n",
    "sig = 0.5786\n",
    "r = 0\n",
    "K = 1000\n",
    "rho = -0.0243\n",
    "v0 = 0.5172\n",
    "t = 1 / 12\n",
    "s = 950\n",
    "v = 0.5172"
   ]
  },
  {
   "cell_type": "code",
   "execution_count": 9,
   "metadata": {},
   "outputs": [
    {
     "name": "stdout",
     "output_type": "stream",
     "text": [
      "calculation of panel A in table 1: \n",
      "\n",
      "57.84489054110933\n",
      "62.373759831965806\n",
      "67.1032999960679\n",
      "72.03211991278215\n",
      "77.15835450162963\n",
      "82.47969295665297\n",
      "87.993408879552\n",
      "93.69639186491263\n",
      "99.58518010991531\n",
      "105.65599364479358\n",
      "111.90476780807006\n",
      "CPU times: user 1.87 s, sys: 14.4 ms, total: 1.88 s\n",
      "Wall time: 1.89 s\n"
     ]
    }
   ],
   "source": [
    "%%time\n",
    "print(\"calculation of panel A in table 1: \\n\")\n",
    "for i in range(950, 1060, 10):\n",
    "    params = (t, i, v, r, K, v0, kappa, theta, sig, rho)\n",
    "    print(approx(bs, deltas, 4, params))"
   ]
  },
  {
   "cell_type": "code",
   "execution_count": 10,
   "metadata": {},
   "outputs": [
    {
     "name": "stdout",
     "output_type": "stream",
     "text": [
      "calculation of panel B in table 1: \n",
      "\n",
      "36.482495255277705\n",
      "51.42396003020794\n",
      "62.90592416142184\n",
      "72.58339034130205\n",
      "81.10389934659743\n",
      "88.8008180375301\n",
      "95.87260423649352\n",
      "102.44874976250965\n",
      "108.6192969766021\n",
      "114.44986242045158\n",
      "119.99001814341999\n",
      "CPU times: user 1.6 s, sys: 20.4 ms, total: 1.62 s\n",
      "Wall time: 1.63 s\n"
     ]
    }
   ],
   "source": [
    "%%time\n",
    "s = 1000\n",
    "print(\"calculation of panel B in table 1: \\n\")\n",
    "for j in np.arange(0.1, 1.2, 0.1):\n",
    "    v = j\n",
    "    v0 = j\n",
    "    params = (t, s, v, r, K, v0, kappa, theta, sig, rho)\n",
    "    print(approx(bs, deltas, 4, params))"
   ]
  }
 ],
 "metadata": {
  "kernelspec": {
   "display_name": "SageMath 9.7",
   "language": "sage",
   "name": "SageMath-9.7"
  },
  "language_info": {
   "codemirror_mode": {
    "name": "ipython",
    "version": 3
   },
   "file_extension": ".py",
   "mimetype": "text/x-python",
   "name": "python",
   "nbconvert_exporter": "python",
   "pygments_lexer": "ipython3",
   "version": "3.10.5"
  },
  "orig_nbformat": 4,
  "vscode": {
   "interpreter": {
    "hash": "e7cb1b9ae4d417fedf7f40a8eec98f7cfbd359e096bd857395a915f4609834ce"
   }
  }
 },
 "nbformat": 4,
 "nbformat_minor": 2
}
